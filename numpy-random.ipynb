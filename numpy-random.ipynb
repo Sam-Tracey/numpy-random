{
 "cells": [
  {
   "attachments": {
    "f76207bc-6c47-46b3-b4f6-c780b397a787.png": {
     "image/png": "[encoded data removed]"
    }
   },
   "cell_type": "markdown",
   "id": "3829c4a0-0a5f-49d8-a347-bd1cb0876ea1",
   "metadata": {},
   "source": [
    "# Programming for Data Analysis \n",
    "## Student Name: Sam Tracey\n",
    "## Student ID: G00398245\n",
    "## November 2021\n",
    "\n",
    "![image.png](attachment:f76207bc-6c47-46b3-b4f6-c780b397a787.png)\n",
    "***"
   ]
  },
  {
   "cell_type": "markdown",
   "id": "f2aa6579-a23e-45ae-b5a5-d93727764ece",
   "metadata": {},
   "source": [
    "# The NumPy Random Package.\n",
    "\n",
    "[Official Numpy Documentation](https://numpy.org/doc/stable/reference/random/index.html)\n",
    "\n",
    "***"
   ]
  },
  {
   "cell_type": "markdown",
   "id": "1fe3626c-c0ee-4659-8183-aaf21ae1771f",
   "metadata": {},
   "source": [
    "1. Explain the overall purpose of the package.\n",
    "2. Explain the use of the “Simple random data” and “Permutations” functions.\n",
    "3. Explain the use and purpose of at least five “Distributions” functions.\n",
    "4. Explain the use of seeds in generating pseudorandom numbers."
   ]
  },
  {
   "cell_type": "markdown",
   "id": "362d5cd1-ee1c-487e-acde-7fc4af0dcd99",
   "metadata": {},
   "source": [
    "<br>\n",
    "\n",
    "## What is NumPy?\n",
    "\n",
    "***\n",
    "\n",
    "NumPy, which stands for Numerical Python, is an open sourced Python library. Created in 2005 by Travis E. Oliphant NumPy combined the features of two older Python packages:<br>\n",
    "Numeric and Numarray ([1](https://www.nature.com/articles/s41586-020-2649-2)). Today NumPy is considered the universal standard for working with numerial data in Python and is\n",
    "extensively used in engineering and science ([2](https://towardsdatascience.com/the-ultimate-beginners-guide-to-numpy-f5a2f99aef54))<br>\n",
    "<br>\n",
    "A key feature of NumPy is its N-Dimensional Array (ndarray) object. ([3](https://numpy.org/doc/stable/user/whatisnumpy.html)) Inherently, Python has lists which serve the purpose of an array however, these are slow to process due to the fact that a Python list is actually made up of pointers referencing an object in memory. ([4](https://medium.com/@gough.cory/performance-of-numpy-array-vs-python-list-194c8e283b65)) A NumPy array on the other hand is a collection of similar data-types stored in one continuous place in memory. To see how much faster a NumPy array is when compared to a Python list we can run the code below in which we create a list of one million elements and a NumPy array of one million elements.<br> We then calculate how long it takes to perform a simple mathematical operation on each element. In this example, NumPy performs the\n",
    "operation approximately 65 times faster.\n"
   ]
  },
  {
   "cell_type": "code",
   "execution_count": 23,
   "id": "b3386a74-f02f-4f5d-a6a8-706a656a06c8",
   "metadata": {},
   "outputs": [
    {
     "name": "stdout",
     "output_type": "stream",
     "text": [
      "NumPy Processing Time\n",
      "Wall time: 37.9 ms\n",
      "List Processing Time\n",
      "Wall time: 3.12 s\n"
     ]
    }
   ],
   "source": [
    "# Import NumPy package\n",
    "import numpy as np\n",
    "\n",
    "# create a Numpy array.\n",
    "numpy_arr = np.arange(1000000)\n",
    "\n",
    "# create a python list.\n",
    "python_list = list(range(1000000))\n",
    "\n",
    "# print out execution time for raising each element in the array to the power of 2.\n",
    "print(\"NumPy Processing Time\")\n",
    "%time for i in range(10): numpy_arr = numpy_arr ** 2\n",
    " \n",
    "# print out execution time for raising each element in the array to the power of 2.\n",
    "print(\"List Processing Time\")\n",
    "%time for i in range(10): python_list2 = [x ** 2 for x in python_list]"
   ]
  },
  {
   "cell_type": "markdown",
   "id": "be465fe3-d45f-42a9-bff9-5348d7bbe99c",
   "metadata": {},
   "source": [
    "<br>\n",
    "\n",
    "## The numpy.random package.\n",
    "\n",
    "***\n",
    "\n",
    "The numpy.random module provides the user with the ability to generate full arrays of pseudo-random numbers of specified shapes. It is considered supplemental to Python's built-in<br> *random* module which only samples one value at a time.[5]<br>\n",
    "\n",
    "**What exactly is a pseudo-random number?** <br>\n",
    "\n",
    "A pseudo-random number is a mathematically generated sequence of nearly random numbers. All software pseudo-random generators (including numpy.random) work in fundamentally the<br> same way: *\"They start with a random number, known as the seed, and then use an algorithm to generate a pseudo-random sequence of bits based on it.\"* ([6](https://docs.microsoft.com/en-us/windows/win32/api/wincrypt/nf-wincrypt-cryptgenrandom?redirectedfrom=MSDN))<br> We will cover psedo-random numbers and seeds in a later section.<br>\n",
    "\n",
    "In data science, the numpy.random package is often used to simulate data"
   ]
  },
  {
   "cell_type": "code",
   "execution_count": null,
   "id": "b526dafd-51a8-4a15-928c-e9cb2ed28694",
   "metadata": {},
   "outputs": [],
   "source": []
  },
  {
   "cell_type": "code",
   "execution_count": null,
   "id": "4f1d08b9-af50-4708-8a23-31f2a745582b",
   "metadata": {},
   "outputs": [],
   "source": []
  },
  {
   "cell_type": "code",
   "execution_count": null,
   "id": "17cf69b0-5fc8-4d42-9606-6cb4171e5084",
   "metadata": {},
   "outputs": [],
   "source": []
  },
  {
   "cell_type": "code",
   "execution_count": null,
   "id": "448fda36-7faf-45bd-ae3b-0973e909e88b",
   "metadata": {},
   "outputs": [],
   "source": []
  },
  {
   "cell_type": "code",
   "execution_count": null,
   "id": "358e68b9-1390-49dd-a201-6e22b65fb331",
   "metadata": {},
   "outputs": [],
   "source": []
  },
  {
   "cell_type": "code",
   "execution_count": null,
   "id": "a7841809-ce95-4aaf-a140-57153490a9ff",
   "metadata": {},
   "outputs": [],
   "source": []
  },
  {
   "cell_type": "code",
   "execution_count": null,
   "id": "000b17f6-0126-4c38-be77-b5d4b85c7d52",
   "metadata": {},
   "outputs": [],
   "source": []
  },
  {
   "cell_type": "code",
   "execution_count": null,
   "id": "08acab5f-9303-4a54-94e7-592e919d0b48",
   "metadata": {},
   "outputs": [],
   "source": []
  },
  {
   "cell_type": "code",
   "execution_count": null,
   "id": "eaba85ad-417d-460a-9d84-4bd835bf243d",
   "metadata": {},
   "outputs": [],
   "source": []
  },
  {
   "cell_type": "code",
   "execution_count": null,
   "id": "e7b51138-81ab-4d1b-8513-91187e1e4486",
   "metadata": {},
   "outputs": [],
   "source": []
  },
  {
   "cell_type": "code",
   "execution_count": null,
   "id": "18978505-1d92-40cd-81ae-6e364612f843",
   "metadata": {},
   "outputs": [],
   "source": []
  },
  {
   "cell_type": "code",
   "execution_count": null,
   "id": "54d04aed-45b8-4722-a207-be7f1595848b",
   "metadata": {},
   "outputs": [],
   "source": []
  },
  {
   "cell_type": "code",
   "execution_count": 2,
   "id": "6f695599-6d7b-4f40-826f-629057c945b7",
   "metadata": {},
   "outputs": [],
   "source": [
    "# Efficient numerical arrays\n",
    "import numpy as np\n",
    "\n",
    "# Plotting.\n",
    "import matplotlib.pyplot as plt"
   ]
  },
  {
   "cell_type": "code",
   "execution_count": 3,
   "id": "1ee867cf-2d56-4b7e-8a30-0ce1006d9871",
   "metadata": {},
   "outputs": [],
   "source": [
    "# Change default style sheet [3]\n",
    "plt.style.use('seaborn')\n",
    "# change the default figure size [2]\n",
    "plt.rcParams['figure.figsize'] = [10, 5]\n",
    " "
   ]
  },
  {
   "cell_type": "markdown",
   "id": "3513b762-a99c-4254-a954-44f80937f5e9",
   "metadata": {},
   "source": [
    "## Random Number Generation (Distributions)\n",
    "\n",
    "[Documentation](https://numpy.org/doc/1.21/reference/random/generator.html)"
   ]
  },
  {
   "cell_type": "code",
   "execution_count": 14,
   "id": "05a00652-496d-4a70-92e3-93dce1ab32dc",
   "metadata": {
    "scrolled": true,
    "tags": []
   },
   "outputs": [
    {
     "data": {
      "text/plain": [
       "array([-0.22000418, -0.09748557, -0.40500665, -0.89682194, -0.1537628 ,\n",
       "       -0.80492594, -0.74844604, -0.48106003, -0.19055194, -0.12374876,\n",
       "       -0.95884813, -0.47294957, -0.72048424, -0.54185795, -0.77184671,\n",
       "       -0.75645445, -0.99268751, -0.23812375, -0.58782662, -0.17222776,\n",
       "       -0.96494801, -0.33620927, -0.37498891, -0.53414085, -0.4514488 ,\n",
       "       -0.82957981, -0.05961435, -0.35628976, -0.75343988, -0.51583636,\n",
       "       -0.98663791, -0.78485558, -0.05443904, -0.21496602, -0.36997837,\n",
       "       -0.48968098, -0.8005887 , -0.31349422, -0.29299649, -0.2134092 ,\n",
       "       -0.59528603, -0.25449775, -0.1751527 , -0.19021982, -0.07081782,\n",
       "       -0.064045  , -0.10367502, -0.20266852, -0.61282191, -0.57317484,\n",
       "       -0.36827358, -0.14252548, -0.77321799, -0.6975265 , -0.45466494,\n",
       "       -0.78473   , -0.20651726, -0.64782252, -0.41648767, -0.27666293,\n",
       "       -0.53563404, -0.1931743 , -0.22799089, -0.73972278, -0.54504217,\n",
       "       -0.74097583, -0.98680284, -0.36156893, -0.51283241, -0.49175732,\n",
       "       -0.6724669 , -0.31143191, -0.30687779, -0.40151759, -0.02026164,\n",
       "       -0.68579799, -0.90343342, -0.82726409, -0.66456004, -0.76060115,\n",
       "       -0.52907195, -0.40271531, -0.399857  , -0.37575356, -0.85518654,\n",
       "       -0.35495959, -0.40354375, -0.97922365, -0.63722453, -0.06361609,\n",
       "       -0.06695643, -0.75808083, -0.29898498, -0.27192322, -0.45266446,\n",
       "       -0.29503887, -0.1452235 , -0.57305163, -0.52240815, -0.12542469,\n",
       "       -0.35928573, -0.92553794, -0.69934178, -0.20327542, -0.9176342 ,\n",
       "       -0.68836695, -0.75747362, -0.00904315, -0.12354379, -0.78211938,\n",
       "       -0.08044294, -0.89007516, -0.86458427, -0.99398313, -0.38969439,\n",
       "       -0.19494235, -0.77794566, -0.90133549, -0.7615033 , -0.59096365,\n",
       "       -0.18104222, -0.80576747, -0.63960039, -0.85771277, -0.15936198,\n",
       "       -0.86484103, -0.40485436, -0.28080073, -0.6826021 , -0.88120881,\n",
       "       -0.80385489, -0.24147458, -0.98115723, -0.9440145 , -0.92400305,\n",
       "       -0.9655792 , -0.13573825, -0.35765296, -0.7589873 , -0.55106483,\n",
       "       -0.89010427, -0.28287273, -0.46030109, -0.33198969, -0.62379159,\n",
       "       -0.46206946, -0.87009127, -0.1915209 , -0.97113231, -0.67076325,\n",
       "       -0.10770594, -0.70196435, -0.93644452, -0.71990466, -0.23987558,\n",
       "       -0.4572205 , -0.44798974, -0.21298293, -0.4863888 , -0.57196259,\n",
       "       -0.63525169, -0.54711045, -0.27781078, -0.06460203, -0.18068816,\n",
       "       -0.21427529, -0.85186722, -0.89695003, -0.6569459 , -0.70586387,\n",
       "       -0.2730601 , -0.38157887, -0.44282762, -0.06525449, -0.73715854,\n",
       "       -0.88027715, -0.71409901, -0.49105196, -0.04135833, -0.67452483,\n",
       "       -0.24167724, -0.78312239, -0.65234432, -0.44859824, -0.06689383,\n",
       "       -0.50953683, -0.48924993, -0.88526777, -0.36478715, -0.24825378,\n",
       "       -0.30898887, -0.44226615, -0.17877058, -0.18758957, -0.18357271,\n",
       "       -0.44965412, -0.98253152, -0.31479279, -0.68462697, -0.23804013,\n",
       "       -0.88271432, -0.46460179, -0.33401823, -0.99285188, -0.13156665,\n",
       "       -0.71574236, -0.39343006, -0.63062125, -0.96253781, -0.37540674,\n",
       "       -0.96267203, -0.78954297, -0.55190966, -0.35715413, -0.95960201,\n",
       "       -0.26066635, -0.56675351, -0.06787383, -0.50664082, -0.88049475,\n",
       "       -0.41599041, -0.88329316, -0.16682536, -0.72529362, -0.01185949,\n",
       "       -0.39916456, -0.44716   , -0.00957205, -0.29141988, -0.26186273,\n",
       "       -0.07984004, -0.29964626, -0.60127341, -0.38290839, -0.4378247 ,\n",
       "       -0.40216414, -0.74149404, -0.58429944, -0.77021799, -0.57311804,\n",
       "       -0.44508017, -0.85246307, -0.90088824, -0.07766132, -0.69221926,\n",
       "       -0.50606374, -0.80166132, -0.09917104, -0.24117037, -0.78712784,\n",
       "       -0.651868  , -0.04162145, -0.03122731, -0.64362609, -0.76188853,\n",
       "       -0.62106713, -0.00777954, -0.41005222, -0.83465821, -0.13343645,\n",
       "       -0.8101263 , -0.00580071, -0.37010462, -0.59080259, -0.74192329,\n",
       "       -0.7519289 , -0.39017   , -0.23823821, -0.15193395, -0.83239657,\n",
       "       -0.72023716, -0.7773101 , -0.52253698, -0.2618328 , -0.39292521,\n",
       "       -0.72527401, -0.54631278, -0.18582316, -0.50718696, -0.94818306,\n",
       "       -0.04012772, -0.69508412, -0.90900359, -0.13707792, -0.33753083,\n",
       "       -0.31375171, -0.36127658, -0.61269062, -0.66825643, -0.18502999,\n",
       "       -0.11507337, -0.83070294, -0.59186022, -0.14903961, -0.75149253,\n",
       "       -0.84001293, -0.98758888, -0.66122856, -0.78214061, -0.59167413,\n",
       "       -0.56457344, -0.90568638, -0.70036945, -0.35332377, -0.0933653 ,\n",
       "       -0.17526314, -0.91093618, -0.76456883, -0.76647611, -0.09492744,\n",
       "       -0.27356287, -0.35697104, -0.28851064, -0.34712115, -0.95319505,\n",
       "       -0.6756621 , -0.11019156, -0.14177032, -0.87798509, -0.98979952,\n",
       "       -0.49070854, -0.61882908, -0.95251378, -0.68774565, -0.287854  ,\n",
       "       -0.50811119, -0.31966455, -0.62736467, -0.91843386, -0.59598705,\n",
       "       -0.86390157, -0.97335761, -0.69450477, -0.06894755, -0.46359014,\n",
       "       -0.63572175, -0.25960601, -0.70832745, -0.66450527, -0.23006147,\n",
       "       -0.30170663, -0.21883736, -0.62731183, -0.9811505 , -0.28136359,\n",
       "       -0.48486519, -0.23554497, -0.17541535, -0.73477109, -0.77840751,\n",
       "       -0.60955761, -0.32340944, -0.15732358, -0.65060073, -0.60882895,\n",
       "       -0.90622478, -0.7107055 , -0.47821703, -0.06061738, -0.6881783 ,\n",
       "       -0.94502977, -0.76328046, -0.34304546, -0.780425  , -0.03707103,\n",
       "       -0.56190481, -0.22014474, -0.48345958, -0.41869704, -0.06902227,\n",
       "       -0.87381769, -0.76124024, -0.61009734, -0.9168729 , -0.95391379,\n",
       "       -0.52081352, -0.70290029, -0.66158566, -0.05009352, -0.08664659,\n",
       "       -0.57225707, -0.63072899, -0.27343985, -0.47384552, -0.88017674,\n",
       "       -0.66012552, -0.57814504, -0.00965448, -0.29743657, -0.13398078,\n",
       "       -0.10659748, -0.41605486, -0.63244002, -0.91127538, -0.89338457,\n",
       "       -0.34787525, -0.27319789, -0.46679977, -0.55180785, -0.53886977,\n",
       "       -0.45156453, -0.57977397, -0.872073  , -0.50142558, -0.8939996 ,\n",
       "       -0.98370954, -0.30968904, -0.6807886 , -0.38397183, -0.61533051,\n",
       "       -0.35096647, -0.58509687, -0.13658116, -0.06607737, -0.42898652,\n",
       "       -0.31819837, -0.77252739, -0.00263123, -0.66756105, -0.96503328,\n",
       "       -0.83670934, -0.31015699, -0.59223502, -0.29264744, -0.90534382,\n",
       "       -0.01109866, -0.88398374, -0.34254395, -0.10097525, -0.85487576,\n",
       "       -0.17706461, -0.46956142, -0.11478142, -0.89316037, -0.86620631,\n",
       "       -0.05422423, -0.84424548, -0.87249752, -0.64443505, -0.58328777,\n",
       "       -0.78979729, -0.13212354, -0.08770588, -0.87677867, -0.22965672,\n",
       "       -0.71440446, -0.67470036, -0.66727132, -0.87694537, -0.46790686,\n",
       "       -0.0156343 , -0.81581049, -0.79428578, -0.33067929, -0.03839414,\n",
       "       -0.58391809, -0.69995844, -0.89656769, -0.14159503, -0.35192846,\n",
       "       -0.23857924, -0.42574247, -0.11835843, -0.94192051, -0.77829091,\n",
       "       -0.8107241 , -0.67306955, -0.67842075, -0.8103061 , -0.54363435,\n",
       "       -0.8738137 , -0.32268155, -0.88422689, -0.56771745, -0.84041825,\n",
       "       -0.02579593, -0.21707003, -0.95530843, -0.13728467, -0.51297292,\n",
       "       -0.74175459, -0.33225409, -0.26811729, -0.75368177, -0.12084883,\n",
       "       -0.38765755, -0.02978924, -0.41300365, -0.46104461, -0.19672706,\n",
       "       -0.85866044, -0.98877936, -0.17174152, -0.85885987, -0.78229266,\n",
       "       -0.06944725, -0.25273598, -0.86609235, -0.42854214, -0.42942865,\n",
       "       -0.88108568, -0.14344839, -0.59058241, -0.990234  , -0.55132132,\n",
       "       -0.52143671, -0.9155178 , -0.55157838, -0.79944142, -0.13819481,\n",
       "       -0.07139101, -0.8583468 , -0.13516782, -0.29492765, -0.57265482,\n",
       "       -0.46978655, -0.43491951, -0.11737332, -0.67788824, -0.93585365,\n",
       "       -0.97849859, -0.18116059, -0.8043272 , -0.65918732, -0.20011686,\n",
       "       -0.90374772, -0.78638296, -0.44575979, -0.48167177, -0.21148474,\n",
       "       -0.17668997, -0.95074723, -0.49167583, -0.93165225, -0.15023117,\n",
       "       -0.22902806, -0.26255563, -0.00114648, -0.99923399, -0.15948819,\n",
       "       -0.34573959, -0.93596743, -0.81546255, -0.65572653, -0.02525384,\n",
       "       -0.27647185, -0.71104687, -0.17457261, -0.61491851, -0.92971822,\n",
       "       -0.80585575, -0.9598281 , -0.047382  , -0.85956918, -0.49957979,\n",
       "       -0.7483088 , -0.20571046, -0.95921824, -0.42609957, -0.57081977,\n",
       "       -0.6479778 , -0.00786582, -0.20528424, -0.04134029, -0.5856149 ,\n",
       "       -0.07660535, -0.77015508, -0.91229849, -0.71619996, -0.31903748,\n",
       "       -0.82921468, -0.10945461, -0.43366351, -0.94679511, -0.26597944,\n",
       "       -0.34027501, -0.2243033 , -0.21947503, -0.99961508, -0.1243242 ,\n",
       "       -0.3676663 , -0.20807313, -0.76458132, -0.75499793, -0.00122716,\n",
       "       -0.86562587, -0.09143813, -0.75206774, -0.02782822, -0.0710505 ,\n",
       "       -0.47631622, -0.63451583, -0.26883463, -0.48028411, -0.34606022,\n",
       "       -0.37474806, -0.1233265 , -0.6810693 , -0.26247781, -0.44520463,\n",
       "       -0.79492052, -0.09068516, -0.17683597, -0.42058187, -0.73158101,\n",
       "       -0.11233113, -0.39687054, -0.13518397, -0.05964777, -0.73083861,\n",
       "       -0.00746419, -0.71397634, -0.21591224, -0.66550786, -0.00402457,\n",
       "       -0.20938563, -0.38588808, -0.53620902, -0.64412816, -0.66591568,\n",
       "       -0.18385119, -0.97475834, -0.4483247 , -0.97151251, -0.9222639 ,\n",
       "       -0.31408997, -0.8847071 , -0.33682817, -0.86879362, -0.77345235,\n",
       "       -0.95306067, -0.68018819, -0.97624874, -0.24662864, -0.95588306,\n",
       "       -0.72226412, -0.82932233, -0.39802246, -0.92411171, -0.80955229,\n",
       "       -0.1659068 , -0.22064577, -0.96173009, -0.95458007, -0.89162398,\n",
       "       -0.25120857, -0.83757061, -0.8251378 , -0.85719588, -0.64858138,\n",
       "       -0.62949108, -0.03228298, -0.97259447, -0.28424317, -0.7890849 ,\n",
       "       -0.66626358, -0.03968161, -0.76142015, -0.9594776 , -0.95725209,\n",
       "       -0.72717775, -0.53871025, -0.50979091, -0.10255374, -0.26551126,\n",
       "       -0.84122741, -0.73467918, -0.09148422, -0.06627875, -0.45787851,\n",
       "       -0.10502846, -0.91444606, -0.28906817, -0.56363882, -0.98915097,\n",
       "       -0.3840909 , -0.15814479, -0.90805205, -0.97207243, -0.9191003 ,\n",
       "       -0.12334257, -0.11630846, -0.74106736, -0.4510789 , -0.06603822,\n",
       "       -0.58151009, -0.70530189, -0.47303774, -0.6076728 , -0.28984928,\n",
       "       -0.16382417, -0.60806361, -0.08366512, -0.15663881, -0.80099093,\n",
       "       -0.74330189, -0.00422575, -0.05498404, -0.71989529, -0.2499815 ,\n",
       "       -0.92429066, -0.90207504, -0.88563737, -0.64789652, -0.23828872,\n",
       "       -0.888972  , -0.35932123, -0.86084507, -0.63819316, -0.4103178 ,\n",
       "       -0.2954553 , -0.77798216, -0.13060706, -0.26501923, -0.64030567,\n",
       "       -0.2360901 , -0.17162502, -0.20731784, -0.68711192, -0.4161471 ,\n",
       "       -0.49556227, -0.17982166, -0.55954217, -0.93244037, -0.27959189,\n",
       "       -0.86894339, -0.9092933 , -0.49619192, -0.53344345, -0.43465567,\n",
       "       -0.61608886, -0.81918658, -0.03384211, -0.41872722, -0.7022515 ,\n",
       "       -0.69985613, -0.470984  , -0.79780973, -0.60840919, -0.57300668,\n",
       "       -0.51325783, -0.15424433, -0.47995025, -0.10513525, -0.38179301,\n",
       "       -0.72227131, -0.37038607, -0.86041778, -0.01922238, -0.51044718,\n",
       "       -0.22041969, -0.38340276, -0.48954115, -0.92693916, -0.12925092,\n",
       "       -0.47983437, -0.48022128, -0.32343597, -0.26958749, -0.10139863,\n",
       "       -0.20652292, -0.76319218, -0.13401483, -0.26986892, -0.48234001,\n",
       "       -0.86518553, -0.83982693, -0.83628125, -0.45704635, -0.24676832,\n",
       "       -0.22557282, -0.0980491 , -0.92996142, -0.12708442, -0.46032039,\n",
       "       -0.8904162 , -0.0010792 , -0.17045676, -0.58931438, -0.24159967,\n",
       "       -0.71086217, -0.99193054, -0.92593051, -0.75839343, -0.76967795,\n",
       "       -0.08563624, -0.25677352, -0.79593297, -0.87081068, -0.21972775,\n",
       "       -0.70260636, -0.03510417, -0.87276232, -0.23671064, -0.915508  ,\n",
       "       -0.30148981, -0.87760037, -0.50063424, -0.26795495, -0.09100011,\n",
       "       -0.59550598, -0.30882321, -0.09965037, -0.38161415, -0.65099885,\n",
       "       -0.19154515, -0.72354556, -0.41321168, -0.1096639 , -0.527519  ,\n",
       "       -0.71097507, -0.56603811, -0.45262095, -0.68010771, -0.68676606,\n",
       "       -0.71222822, -0.94979887, -0.22774663, -0.15807481, -0.10575471,\n",
       "       -0.55104966, -0.94332119, -0.90329082, -0.30101095, -0.46813218,\n",
       "       -0.83586512, -0.33651145, -0.27139168, -0.17969525, -0.3679966 ,\n",
       "       -0.36709313, -0.83174326, -0.08209188, -0.90496497, -0.84051077,\n",
       "       -0.66513772, -0.0090792 , -0.19718432, -0.20241843, -0.1096049 ,\n",
       "       -0.33809778, -0.81428039, -0.64299734, -0.39462231, -0.36351419,\n",
       "       -0.14553481, -0.48280873, -0.84462019, -0.35672995, -0.18906794,\n",
       "       -0.97127525, -0.72327277, -0.28477368, -0.09582779, -0.98865053,\n",
       "       -0.49638441, -0.55312527, -0.06176365, -0.26699638, -0.51695813,\n",
       "       -0.72778461, -0.59701139, -0.84065683, -0.4144213 , -0.85153831,\n",
       "       -0.61023195, -0.55464211, -0.90986369, -0.08204093, -0.75984404,\n",
       "       -0.26891004, -0.46267635, -0.59686496, -0.62044675, -0.60472436,\n",
       "       -0.30610945, -0.12908785, -0.03185308, -0.0725143 , -0.28811721,\n",
       "       -0.51514266, -0.16571216, -0.4240298 , -0.64590886, -0.70764035,\n",
       "       -0.52479188, -0.1388386 , -0.69760504, -0.54216523, -0.43624626,\n",
       "       -0.64202021, -0.46892501, -0.34024647, -0.89696644, -0.01422746,\n",
       "       -0.46427891, -0.96211943, -0.21402997, -0.70084276, -0.84757488,\n",
       "       -0.46921996, -0.3597959 , -0.44950326, -0.49728028, -0.58254378,\n",
       "       -0.71763776, -0.87556539, -0.50198458, -0.77307341, -0.33585518,\n",
       "       -0.4971665 , -0.45844473, -0.98294267, -0.93036628, -0.18617183,\n",
       "       -0.96271803, -0.46380843, -0.19675185, -0.4398692 , -0.1740959 ,\n",
       "       -0.49191322, -0.32757644, -0.41953146, -0.1475819 , -0.65589473,\n",
       "       -0.14611467, -0.67076399, -0.6522193 , -0.64044129, -0.86020201,\n",
       "       -0.50000845, -0.58232592, -0.93551515, -0.66695553, -0.72379258,\n",
       "       -0.83700991, -0.11922681, -0.54899748, -0.34086212, -0.08460152,\n",
       "       -0.24615095, -0.42167868, -0.01987017, -0.25863108, -0.15785248,\n",
       "       -0.60877597, -0.93348491, -0.42155587, -0.04020579, -0.522432  ,\n",
       "       -0.83847519, -0.25846639, -0.970371  , -0.01268989, -0.27989614,\n",
       "       -0.69065453, -0.14891925, -0.69261444, -0.39575019, -0.72784602,\n",
       "       -0.52921032, -0.39571434, -0.54330458, -0.7129356 , -0.97098659,\n",
       "       -0.73233848, -0.71889489, -0.69974352, -0.71114407, -0.67206942,\n",
       "       -0.64610657, -0.60794983, -0.07488992, -0.3587287 , -0.61899341,\n",
       "       -0.16906395, -0.63265795, -0.64225631, -0.40404843, -0.91354233,\n",
       "       -0.64393796, -0.56137383, -0.08686321, -0.97123468, -0.64598287,\n",
       "       -0.84347926, -0.89857652, -0.3257795 , -0.32377315, -0.43754917,\n",
       "       -0.2309993 , -0.59966835, -0.52358757, -0.15579377, -0.8782222 ,\n",
       "       -0.52862016, -0.54675958, -0.75029128, -0.84921973, -0.10455855])"
      ]
     },
     "execution_count": 14,
     "metadata": {},
     "output_type": "execute_result"
    }
   ],
   "source": [
    "# Generate an array of 10000 value between -1 (lower Bound) Inclusively and 0(Upper Bound) Exclusively.\n",
    "s = np.random.default_rng().uniform(-1,0,1000)\n",
    "s"
   ]
  },
  {
   "cell_type": "code",
   "execution_count": 18,
   "id": "e6928409-0b2f-4e59-a92b-cb0747b68286",
   "metadata": {},
   "outputs": [
    {
     "data": {
      "text/plain": [
       "(array([103., 103., 106., 105.,  90., 104.,  90., 103., 107.,  89.]),\n",
       " array([-0.99961508, -0.8997615 , -0.79990791, -0.70005432, -0.60020073,\n",
       "        -0.50034714, -0.40049355, -0.30063996, -0.20078638, -0.10093279,\n",
       "        -0.0010792 ]),\n",
       " <BarContainer object of 10 artists>)"
      ]
     },
     "execution_count": 18,
     "metadata": {},
     "output_type": "execute_result"
    },
    {
     "data": {
      "image/png": "[encoded data removed]",
      "text/plain": [
       "<Figure size 720x360 with 1 Axes>"
      ]
     },
     "metadata": {},
     "output_type": "display_data"
    }
   ],
   "source": [
    "plt.hist(s)"
   ]
  },
  {
   "cell_type": "code",
   "execution_count": 26,
   "id": "784eac7b-bb27-4b37-8233-6c00d4eacbc7",
   "metadata": {
    "scrolled": true,
    "tags": []
   },
   "outputs": [
    {
     "data": {
      "text/plain": [
       "array([174.71542054, 175.30882352, 182.77244725, ..., 185.92149718,\n",
       "       188.83934512, 207.83796719])"
      ]
     },
     "execution_count": 26,
     "metadata": {},
     "output_type": "execute_result"
    }
   ],
   "source": [
    "mu, sigma = 180, 15 # mean and standard deviation\n",
    "norm = np.random.default_rng().normal(mu, sigma, 10000)\n",
    "norm"
   ]
  },
  {
   "cell_type": "code",
   "execution_count": 27,
   "id": "79ebecb8-5bb0-463b-9309-ba0747f62103",
   "metadata": {},
   "outputs": [
    {
     "data": {
      "text/plain": [
       "(array([   9.,  100.,  625., 1816., 3046., 2680., 1308.,  365.,   47.,\n",
       "           4.]),\n",
       " array([121.8567963 , 133.95314893, 146.04950156, 158.14585419,\n",
       "        170.24220681, 182.33855944, 194.43491207, 206.5312647 ,\n",
       "        218.62761733, 230.72396996, 242.82032258]),\n",
       " <BarContainer object of 10 artists>)"
      ]
     },
     "execution_count": 27,
     "metadata": {},
     "output_type": "execute_result"
    },
    {
     "data": {
      "image/png": "[encoded data removed]",
      "text/plain": [
       "<Figure size 720x360 with 1 Axes>"
      ]
     },
     "metadata": {},
     "output_type": "display_data"
    }
   ],
   "source": [
    "plt.hist(norm)"
   ]
  },
  {
   "cell_type": "markdown",
   "id": "172c5a4f-212b-43dc-89ba-8902cc6418b3",
   "metadata": {},
   "source": [
    "Task from video: Understand how the new seed algorithm (PCG64) out performs the previous seed algorithm."
   ]
  },
  {
   "cell_type": "code",
   "execution_count": null,
   "id": "d1ce1707-fe3f-4ce6-895e-dd1f6ec17e46",
   "metadata": {},
   "outputs": [],
   "source": []
  },
  {
   "cell_type": "code",
   "execution_count": null,
   "id": "014b71d7-0b29-4970-babc-1dad2c29e30b",
   "metadata": {},
   "outputs": [],
   "source": []
  },
  {
   "cell_type": "code",
   "execution_count": null,
   "id": "817d90b2-cf64-4336-a264-c6107038ef2d",
   "metadata": {},
   "outputs": [],
   "source": []
  },
  {
   "cell_type": "code",
   "execution_count": null,
   "id": "b1252795-e9b4-4439-9da6-45b377301e48",
   "metadata": {},
   "outputs": [],
   "source": []
  },
  {
   "cell_type": "code",
   "execution_count": null,
   "id": "13dd5a7c-2117-4f4f-93d1-b0c33f32f80b",
   "metadata": {},
   "outputs": [],
   "source": []
  },
  {
   "cell_type": "code",
   "execution_count": null,
   "id": "35e72aa0-bff4-4221-b62c-48f02ef1928b",
   "metadata": {},
   "outputs": [],
   "source": []
  },
  {
   "cell_type": "code",
   "execution_count": null,
   "id": "9cddd859-a03f-4bd5-baf2-a1240e0f9403",
   "metadata": {},
   "outputs": [],
   "source": []
  },
  {
   "cell_type": "code",
   "execution_count": null,
   "id": "25b36775-d1d2-4ad3-98b5-b5cd97c43863",
   "metadata": {},
   "outputs": [],
   "source": []
  },
  {
   "cell_type": "code",
   "execution_count": null,
   "id": "7118df5d-757f-4e9e-b35f-157706d15cf8",
   "metadata": {},
   "outputs": [],
   "source": []
  },
  {
   "cell_type": "markdown",
   "id": "78196b4c-3d8d-4b2c-9f43-8bb84136fd96",
   "metadata": {},
   "source": [
    "## References\n",
    "\n",
    "[1] Harris, C.R., Millman, K.J., van der Walt, S.J. et al. Array programming with NumPy. Nature 585, 357–362 (2020). Available at:https://doi.org/10.1038/s41586-020-2649-2<br>\n",
    "    accessed 24th October 2021<br>\n",
    "[2] Bonner, A. The Ultimate Beginner’s Guide to NumPy. Towards Data Science (2019). Available at: https://towardsdatascience.com/the-ultimate-beginners-guide-to-numpy-f5a2f99aef54 <br> accessed 24th October 2021<br>\n",
    "[3] numpy.org What is NumPy? 2021. Available at: https://numpy.org/doc/stable/user/whatisnumpy.html accessed 24th October 2021<br>\n",
    "[4] Gough, C. Performance of Numpy Array vs Python List (2019). Available at: https://medium.com/@gough.cory/performance-of-numpy-array-vs-python-list-194c8e283b65 accessed 24th October 2021.<br>\n",
    "[5] McKinney, M. Python for Data Analysis. 120-124 (2018)."
   ]
  },
  {
   "cell_type": "markdown",
   "id": "8a8ff514-1f71-48d2-a58a-9204515fbe1e",
   "metadata": {},
   "source": [
    "***\n",
    "\n",
    "## End"
   ]
  },
  {
   "cell_type": "code",
   "execution_count": null,
   "id": "ff9a42cd-29ac-4f39-ba11-1c8eeff4a292",
   "metadata": {},
   "outputs": [],
   "source": []
  }
 ],
 "metadata": {
  "kernelspec": {
   "display_name": "Python 3",
   "language": "python",
   "name": "python3"
  },
  "language_info": {
   "codemirror_mode": {
    "name": "ipython",
    "version": 3
   },
   "file_extension": ".py",
   "mimetype": "text/x-python",
   "name": "python",
   "nbconvert_exporter": "python",
   "pygments_lexer": "ipython3",
   "version": "3.8.8"
  }
 },
 "nbformat": 4,
 "nbformat_minor": 5
}
