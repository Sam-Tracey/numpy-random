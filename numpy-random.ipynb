{
 "cells": [
  {
   "cell_type": "markdown",
   "id": "f2aa6579-a23e-45ae-b5a5-d93727764ece",
   "metadata": {},
   "source": [
    "# The Numpy Random Package. Sam Tracey\n",
    "\n",
    "[Official Numpy Documentation](https://numpy.org/doc/stable/reference/random/index.html)\n",
    "\n",
    "***"
   ]
  },
  {
   "cell_type": "code",
   "execution_count": 1,
   "id": "6f695599-6d7b-4f40-826f-629057c945b7",
   "metadata": {},
   "outputs": [],
   "source": [
    "# Efficient numerical arrays\n",
    "import numpy as np\n",
    "\n",
    "# Plotting.\n",
    "import matplotlib.pyplot as plt"
   ]
  },
  {
   "cell_type": "code",
   "execution_count": 2,
   "id": "1ee867cf-2d56-4b7e-8a30-0ce1006d9871",
   "metadata": {},
   "outputs": [],
   "source": [
    "# Change default style sheet [3]\n",
    "plt.style.use('seaborn')\n",
    "# change the default figure size [2]\n",
    "plt.rcParams['figure.figsize'] = [10, 5]\n",
    " "
   ]
  },
  {
   "cell_type": "markdown",
   "id": "b3e7aade-214b-4b25-8947-805c3101a9e7",
   "metadata": {},
   "source": [
    "<br>\n",
    "\n",
    "## numpy.random.normal\n",
    "\n",
    "https://numpy.org/doc/stable/reference/random/generated/numpy.random.normal.html\n",
    "\n",
    "***"
   ]
  },
  {
   "cell_type": "code",
   "execution_count": 3,
   "id": "693bca53-acc7-4660-a287-a4a67dc56f02",
   "metadata": {},
   "outputs": [],
   "source": [
    "mu, sigma = 0, 0.1 # mean and standard deviation\n",
    "s = np.random.normal(mu, sigma, 1000)"
   ]
  },
  {
   "cell_type": "code",
   "execution_count": 4,
   "id": "78c8bc1a-db15-4930-9162-faeb62204d34",
   "metadata": {},
   "outputs": [
    {
     "data": {
      "text/plain": [
       "array([-0.04579776,  0.09264871, -0.04960495,  0.29202872, -0.08631572,\n",
       "       -0.10681393, -0.03405404, -0.05708306, -0.0437551 ,  0.02260506])"
      ]
     },
     "execution_count": 4,
     "metadata": {},
     "output_type": "execute_result"
    }
   ],
   "source": [
    "# Examining first ten items in array s\n",
    "s[:10]"
   ]
  },
  {
   "cell_type": "code",
   "execution_count": 5,
   "id": "07d08c5a-cac8-4f58-b94d-4add33b2a8b9",
   "metadata": {},
   "outputs": [
    {
     "data": {
      "text/plain": [
       "0.0033845565239213633"
      ]
     },
     "execution_count": 5,
     "metadata": {},
     "output_type": "execute_result"
    }
   ],
   "source": [
    "abs(mu - np.mean(s))"
   ]
  },
  {
   "cell_type": "code",
   "execution_count": 6,
   "id": "34d1f0d6-9f9b-4586-b669-f57c087509a8",
   "metadata": {},
   "outputs": [
    {
     "data": {
      "text/plain": [
       "0.0026163747141535604"
      ]
     },
     "execution_count": 6,
     "metadata": {},
     "output_type": "execute_result"
    }
   ],
   "source": [
    "abs(sigma - np.std(s, ddof=1))"
   ]
  },
  {
   "cell_type": "code",
   "execution_count": 7,
   "id": "39c44b33-725f-4f28-816b-e51445e0eb65",
   "metadata": {},
   "outputs": [
    {
     "data": {
      "image/png": "[encoded data removed]",
      "text/plain": [
       "<Figure size 720x360 with 1 Axes>"
      ]
     },
     "metadata": {},
     "output_type": "display_data"
    }
   ],
   "source": [
    "count, bins, ignored = plt.hist(s, 30, density=True)\n",
    "f = 1/(sigma * np.sqrt(2 * np.pi)) * np.exp(-(bins - mu)**2/(2 * sigma **2))\n",
    "plt.plot(bins, f, linewidth=2)\n",
    "plt.show()"
   ]
  },
  {
   "cell_type": "markdown",
   "id": "78196b4c-3d8d-4b2c-9f43-8bb84136fd96",
   "metadata": {},
   "source": [
    "## References\n",
    "\n",
    "[1] https://realpython.com/python-random/ <br>\n",
    "[2] https://stackoverflow.com/questions/36367986/how-to-make-inline-plots-in-jupyter-notebook-larger <br>\n",
    "[3] https://matplotlib.org/stable/tutorials/introductory/customizing.html"
   ]
  },
  {
   "cell_type": "markdown",
   "id": "8a8ff514-1f71-48d2-a58a-9204515fbe1e",
   "metadata": {},
   "source": [
    "***\n",
    "\n",
    "## End"
   ]
  },
  {
   "cell_type": "code",
   "execution_count": null,
   "id": "ff9a42cd-29ac-4f39-ba11-1c8eeff4a292",
   "metadata": {},
   "outputs": [],
   "source": []
  }
 ],
 "metadata": {
  "kernelspec": {
   "display_name": "Python 3",
   "language": "python",
   "name": "python3"
  },
  "language_info": {
   "codemirror_mode": {
    "name": "ipython",
    "version": 3
   },
   "file_extension": ".py",
   "mimetype": "text/x-python",
   "name": "python",
   "nbconvert_exporter": "python",
   "pygments_lexer": "ipython3",
   "version": "3.8.8"
  }
 },
 "nbformat": 4,
 "nbformat_minor": 5
}
